{
 "cells": [
  {
   "cell_type": "code",
   "execution_count": 19,
   "id": "5917321e-c933-49ce-b230-ff96a351955b",
   "metadata": {},
   "outputs": [],
   "source": [
    "import sqlite3\n",
    "import pandas as pd\n",
    "import matplotlib.pyplot as plt\n"
   ]
  },
  {
   "cell_type": "code",
   "execution_count": 20,
   "id": "606f2092-5795-4da1-bfa9-5cbf1fb6cd9f",
   "metadata": {},
   "outputs": [],
   "source": [
    "# Connect to SQLite database\n",
    "\n",
    "conn = sqlite3.connect(\"sales_data.db\")\n",
    "cursor = conn.cursor()"
   ]
  },
  {
   "cell_type": "code",
   "execution_count": 21,
   "id": "2aa71158-06a9-4b7d-b7e1-509ad6619d49",
   "metadata": {},
   "outputs": [
    {
     "data": {
      "text/plain": [
       "<sqlite3.Cursor at 0x17c5fe99d40>"
      ]
     },
     "execution_count": 21,
     "metadata": {},
     "output_type": "execute_result"
    }
   ],
   "source": [
    "# Create a sample 'sales' table\n",
    "\n",
    "cursor.execute(\"\"\"\n",
    "    CREATE TABLE IF NOT EXISTS sales (\n",
    "        id INTEGER PRIMARY KEY AUTOINCREMENT,\n",
    "        product TEXT,\n",
    "        quantity INTEGER,\n",
    "        price REAL\n",
    "    );\n",
    "\"\"\")"
   ]
  },
  {
   "cell_type": "code",
   "execution_count": 22,
   "id": "8c36056f-85e0-46a9-a709-e006b399e12c",
   "metadata": {},
   "outputs": [],
   "source": [
    "# Insert sample data\n",
    "\n",
    "sample_data = [\n",
    "    ('Apple', 10, 0.50),\n",
    "    ('Banana', 20, 0.30),\n",
    "    ('Orange', 15, 0.40),\n",
    "    ('Apple', 5, 0.50),\n",
    "    ('Banana', 10, 0.30),\n",
    "    ('Orange', 10, 0.40),\n",
    "]"
   ]
  },
  {
   "cell_type": "code",
   "execution_count": 23,
   "id": "16b5778a-eec9-4788-b2d2-aa440a1c5895",
   "metadata": {},
   "outputs": [],
   "source": [
    "cursor.executemany(\"INSERT INTO sales (product, quantity, price) VALUES (?, ?, ?);\", sample_data)\n",
    "conn.commit()"
   ]
  },
  {
   "cell_type": "code",
   "execution_count": 24,
   "id": "3606b17e-00fb-4432-9c90-fe61dd84c03c",
   "metadata": {},
   "outputs": [],
   "source": [
    "# Run SQL query to summarize sales\n",
    "\n",
    "query = \"\"\"\n",
    "    SELECT \n",
    "        product, \n",
    "        SUM(quantity) AS total_qty, \n",
    "        SUM(quantity * price) AS revenue \n",
    "    FROM sales \n",
    "    GROUP BY product;\n",
    "\"\"\""
   ]
  },
  {
   "cell_type": "code",
   "execution_count": 25,
   "id": "34d0c6b3-3820-41e8-a8c7-14229bd1b7f9",
   "metadata": {},
   "outputs": [],
   "source": [
    "# Load results into pandas DataFrame\n",
    "\n",
    "df = pd.read_sql_query(query, conn)"
   ]
  },
  {
   "cell_type": "code",
   "execution_count": 26,
   "id": "211bc758-3880-4ffd-9fe5-0534e5aca467",
   "metadata": {},
   "outputs": [
    {
     "name": "stdout",
     "output_type": "stream",
     "text": [
      "Sales Summary:\n",
      "  product  total_qty  revenue\n",
      "0   Apple         60     30.0\n",
      "1  Banana        120     36.0\n",
      "2  Orange        100     40.0\n"
     ]
    }
   ],
   "source": [
    "# Print the results\n",
    "\n",
    "print(\"Sales Summary:\")\n",
    "print(df)"
   ]
  },
  {
   "cell_type": "code",
   "execution_count": 27,
   "id": "7574786b-b7e3-42a9-9c1b-dc902068b2d2",
   "metadata": {},
   "outputs": [
    {
     "data": {
      "image/png": "[encoded data removed]",
      "text/plain": [
       "<Figure size 640x480 with 1 Axes>"
      ]
     },
     "metadata": {},
     "output_type": "display_data"
    }
   ],
   "source": [
    "#  Plot a bar chart of revenue by product\n",
    "\n",
    "df.plot(kind='bar', x='product', y='revenue', legend=False)\n",
    "plt.title(\"Revenue by Product\")\n",
    "plt.xlabel(\"Product\")\n",
    "plt.ylabel(\"Revenue ($)\")\n",
    "plt.tight_layout()"
   ]
  },
  {
   "cell_type": "code",
   "execution_count": 15,
   "id": "ac31fd36-6612-49fb-add9-e56b4451705f",
   "metadata": {},
   "outputs": [
    {
     "data": {
      "text/plain": [
       "<Figure size 640x480 with 0 Axes>"
      ]
     },
     "metadata": {},
     "output_type": "display_data"
    }
   ],
   "source": [
    "plt.savefig(\"sales_chart.png\")\n",
    "plt.show()"
   ]
  },
  {
   "cell_type": "code",
   "execution_count": 16,
   "id": "55a9f107-5ed6-4aca-a494-cb53de29f8f5",
   "metadata": {},
   "outputs": [],
   "source": [
    "conn.close()"
   ]
  },
  {
   "cell_type": "code",
   "execution_count": null,
   "id": "caacd1e1-64a9-4cb1-8ab9-5d2a2deb824b",
   "metadata": {},
   "outputs": [],
   "source": []
  }
 ],
 "metadata": {
  "kernelspec": {
   "display_name": "Python 3 (ipykernel)",
   "language": "python",
   "name": "python3"
  },
  "language_info": {
   "codemirror_mode": {
    "name": "ipython",
    "version": 3
   },
   "file_extension": ".py",
   "mimetype": "text/x-python",
   "name": "python",
   "nbconvert_exporter": "python",
   "pygments_lexer": "ipython3",
   "version": "3.13.5"
  }
 },
 "nbformat": 4,
 "nbformat_minor": 5
}
